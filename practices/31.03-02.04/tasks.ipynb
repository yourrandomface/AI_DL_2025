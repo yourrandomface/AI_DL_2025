{
  "cells": [
    {
      "cell_type": "code",
      "execution_count": 2,
      "metadata": {
        "colab": {
          "base_uri": "https://localhost:8080/"
        },
        "id": "gZVyBrs22UTL",
        "outputId": "926e723d-6694-4f45-8359-b6a19e48c899"
      },
      "outputs": [
        {
          "name": "stderr",
          "output_type": "stream",
          "text": [
            "[nltk_data] Downloading package wordnet to\n",
            "[nltk_data]     C:\\Users\\User\\AppData\\Roaming\\nltk_data...\n",
            "[nltk_data]   Package wordnet is already up-to-date!\n",
            "[nltk_data] Downloading package stopwords to\n",
            "[nltk_data]     C:\\Users\\User\\AppData\\Roaming\\nltk_data...\n",
            "[nltk_data]   Package stopwords is already up-to-date!\n",
            "[nltk_data] Downloading package punkt to\n",
            "[nltk_data]     C:\\Users\\User\\AppData\\Roaming\\nltk_data...\n",
            "[nltk_data]   Package punkt is already up-to-date!\n",
            "[nltk_data] Downloading package punkt_tab to\n",
            "[nltk_data]     C:\\Users\\User\\AppData\\Roaming\\nltk_data...\n",
            "[nltk_data]   Package punkt_tab is already up-to-date!\n"
          ]
        },
        {
          "data": {
            "text/plain": [
              "True"
            ]
          },
          "execution_count": 2,
          "metadata": {},
          "output_type": "execute_result"
        }
      ],
      "source": [
        "import pandas as pd\n",
        "from tqdm import tqdm\n",
        "import pymorphy3\n",
        "import re\n",
        "import nltk\n",
        "from nltk.corpus import stopwords\n",
        "from nltk.tokenize import word_tokenize\n",
        "from sklearn.feature_extraction.text import CountVectorizer\n",
        "nltk.download('wordnet')\n",
        "nltk.download('stopwords')\n",
        "nltk.download('punkt')\n",
        "nltk.download('punkt_tab')"
      ]
    },
    {
      "cell_type": "code",
      "execution_count": 3,
      "metadata": {
        "colab": {
          "base_uri": "https://localhost:8080/",
          "height": 206
        },
        "id": "JFvJF-Oj2gyB",
        "outputId": "a6c61905-23fa-41ff-b010-15de7aa0c877"
      },
      "outputs": [
        {
          "data": {
            "text/html": [
              "<div>\n",
              "<style scoped>\n",
              "    .dataframe tbody tr th:only-of-type {\n",
              "        vertical-align: middle;\n",
              "    }\n",
              "\n",
              "    .dataframe tbody tr th {\n",
              "        vertical-align: top;\n",
              "    }\n",
              "\n",
              "    .dataframe thead th {\n",
              "        text-align: right;\n",
              "    }\n",
              "</style>\n",
              "<table border=\"1\" class=\"dataframe\">\n",
              "  <thead>\n",
              "    <tr style=\"text-align: right;\">\n",
              "      <th></th>\n",
              "      <th>title</th>\n",
              "      <th>description</th>\n",
              "      <th>real_salary</th>\n",
              "    </tr>\n",
              "  </thead>\n",
              "  <tbody>\n",
              "    <tr>\n",
              "      <th>0</th>\n",
              "      <td>Программист 1С</td>\n",
              "      <td>Высшее специализированное образование. Опыт ра...</td>\n",
              "      <td>78300.0</td>\n",
              "    </tr>\n",
              "    <tr>\n",
              "      <th>1</th>\n",
              "      <td>Инженер-программист</td>\n",
              "      <td>Знание принципов работы RTOS и опыт их использ...</td>\n",
              "      <td>150000.0</td>\n",
              "    </tr>\n",
              "    <tr>\n",
              "      <th>2</th>\n",
              "      <td>Монтажер программы \"Beautytime\"</td>\n",
              "      <td>Наличие опыта работы в программе Adobe Premier...</td>\n",
              "      <td>27500.0</td>\n",
              "    </tr>\n",
              "    <tr>\n",
              "      <th>3</th>\n",
              "      <td>Программист C#</td>\n",
              "      <td>Высшее техническое образование. Опыт работы: о...</td>\n",
              "      <td>225000.0</td>\n",
              "    </tr>\n",
              "    <tr>\n",
              "      <th>4</th>\n",
              "      <td>Продюсер образовательных программ</td>\n",
              "      <td>Уверенный пользователь ПК. Умение работать с т...</td>\n",
              "      <td>30450.0</td>\n",
              "    </tr>\n",
              "  </tbody>\n",
              "</table>\n",
              "</div>"
            ],
            "text/plain": [
              "                               title  \\\n",
              "0                     Программист 1С   \n",
              "1                Инженер-программист   \n",
              "2    Монтажер программы \"Beautytime\"   \n",
              "3                     Программист C#   \n",
              "4  Продюсер образовательных программ   \n",
              "\n",
              "                                         description  real_salary  \n",
              "0  Высшее специализированное образование. Опыт ра...      78300.0  \n",
              "1  Знание принципов работы RTOS и опыт их использ...     150000.0  \n",
              "2  Наличие опыта работы в программе Adobe Premier...      27500.0  \n",
              "3  Высшее техническое образование. Опыт работы: о...     225000.0  \n",
              "4  Уверенный пользователь ПК. Умение работать с т...      30450.0  "
            ]
          },
          "execution_count": 3,
          "metadata": {},
          "output_type": "execute_result"
        }
      ],
      "source": [
        "train = pd.read_csv(r'C:\\Users\\User\\Desktop\\AI_DL_2025\\practices\\31.03-02.04\\train.csv')\n",
        "train.head()"
      ]
    },
    {
      "cell_type": "markdown",
      "metadata": {
        "id": "DhkrHl3j2rRy"
      },
      "source": [
        "Набор данных о вакансиях. Будем пытаться прогнозировать зарплату по описанию вакансии"
      ]
    },
    {
      "cell_type": "code",
      "execution_count": null,
      "metadata": {
        "id": "HDdsB8I222OU"
      },
      "outputs": [],
      "source": [
        "## 1 выполните предварительную обработку данных (нижний регистр, спецсимволы, лемматизация)"
      ]
    },
    {
      "cell_type": "code",
      "execution_count": 4,
      "metadata": {},
      "outputs": [
        {
          "name": "stderr",
          "output_type": "stream",
          "text": [
            "100%|██████████| 2100/2100 [00:22<00:00, 93.16it/s] \n"
          ]
        }
      ],
      "source": [
        "tqdm.pandas()\n",
        "morph=pymorphy3.MorphAnalyzer()\n",
        "def process_text(text):\n",
        "    s = re.sub(r'[^\\w\\s]+|[\\d]+', r'',text).strip()\n",
        "    s = s.lower()\n",
        "    s1 = word_tokenize(s) #токенизация\n",
        "    words=[]\n",
        "    for i in s1:\n",
        "        pv = morph.parse(i)\n",
        "        words.append(pv[0].normal_form)\n",
        "    sentence=' '.join(words)\n",
        "    return sentence\n",
        "\n",
        "train['process_text']=train.description.progress_apply(process_text)"
      ]
    },
    {
      "cell_type": "code",
      "execution_count": null,
      "metadata": {
        "id": "T2mzG0N23Chq"
      },
      "outputs": [],
      "source": [
        "## 2 проведите векторизацию ваших данных, используя CountVectorizer или TfIdfVectorizer"
      ]
    },
    {
      "cell_type": "code",
      "execution_count": 5,
      "metadata": {},
      "outputs": [
        {
          "data": {
            "text/html": [
              "<div>\n",
              "<style scoped>\n",
              "    .dataframe tbody tr th:only-of-type {\n",
              "        vertical-align: middle;\n",
              "    }\n",
              "\n",
              "    .dataframe tbody tr th {\n",
              "        vertical-align: top;\n",
              "    }\n",
              "\n",
              "    .dataframe thead th {\n",
              "        text-align: right;\n",
              "    }\n",
              "</style>\n",
              "<table border=\"1\" class=\"dataframe\">\n",
              "  <thead>\n",
              "    <tr style=\"text-align: right;\">\n",
              "      <th></th>\n",
              "      <th>ajax</th>\n",
              "      <th>api</th>\n",
              "      <th>aspnet</th>\n",
              "      <th>backend</th>\n",
              "      <th>bitrix</th>\n",
              "      <th>bootstrap</th>\n",
              "      <th>cms</th>\n",
              "      <th>crm</th>\n",
              "      <th>css</th>\n",
              "      <th>delphi</th>\n",
              "      <th>...</th>\n",
              "      <th>читать</th>\n",
              "      <th>чпу</th>\n",
              "      <th>чтение</th>\n",
              "      <th>чужой</th>\n",
              "      <th>экономический</th>\n",
              "      <th>эксплуатация</th>\n",
              "      <th>электронный</th>\n",
              "      <th>это</th>\n",
              "      <th>являться</th>\n",
              "      <th>язык</th>\n",
              "    </tr>\n",
              "  </thead>\n",
              "  <tbody>\n",
              "    <tr>\n",
              "      <th>0</th>\n",
              "      <td>0</td>\n",
              "      <td>0</td>\n",
              "      <td>0</td>\n",
              "      <td>0</td>\n",
              "      <td>0</td>\n",
              "      <td>0</td>\n",
              "      <td>0</td>\n",
              "      <td>0</td>\n",
              "      <td>0</td>\n",
              "      <td>0</td>\n",
              "      <td>...</td>\n",
              "      <td>0</td>\n",
              "      <td>0</td>\n",
              "      <td>0</td>\n",
              "      <td>0</td>\n",
              "      <td>0</td>\n",
              "      <td>0</td>\n",
              "      <td>0</td>\n",
              "      <td>0</td>\n",
              "      <td>0</td>\n",
              "      <td>0</td>\n",
              "    </tr>\n",
              "    <tr>\n",
              "      <th>1</th>\n",
              "      <td>0</td>\n",
              "      <td>0</td>\n",
              "      <td>0</td>\n",
              "      <td>0</td>\n",
              "      <td>0</td>\n",
              "      <td>0</td>\n",
              "      <td>0</td>\n",
              "      <td>0</td>\n",
              "      <td>0</td>\n",
              "      <td>0</td>\n",
              "      <td>...</td>\n",
              "      <td>0</td>\n",
              "      <td>0</td>\n",
              "      <td>0</td>\n",
              "      <td>0</td>\n",
              "      <td>0</td>\n",
              "      <td>0</td>\n",
              "      <td>1</td>\n",
              "      <td>0</td>\n",
              "      <td>0</td>\n",
              "      <td>1</td>\n",
              "    </tr>\n",
              "    <tr>\n",
              "      <th>2</th>\n",
              "      <td>0</td>\n",
              "      <td>0</td>\n",
              "      <td>0</td>\n",
              "      <td>0</td>\n",
              "      <td>0</td>\n",
              "      <td>0</td>\n",
              "      <td>0</td>\n",
              "      <td>0</td>\n",
              "      <td>0</td>\n",
              "      <td>0</td>\n",
              "      <td>...</td>\n",
              "      <td>0</td>\n",
              "      <td>0</td>\n",
              "      <td>0</td>\n",
              "      <td>0</td>\n",
              "      <td>0</td>\n",
              "      <td>0</td>\n",
              "      <td>0</td>\n",
              "      <td>0</td>\n",
              "      <td>0</td>\n",
              "      <td>0</td>\n",
              "    </tr>\n",
              "    <tr>\n",
              "      <th>3</th>\n",
              "      <td>0</td>\n",
              "      <td>0</td>\n",
              "      <td>0</td>\n",
              "      <td>0</td>\n",
              "      <td>0</td>\n",
              "      <td>0</td>\n",
              "      <td>0</td>\n",
              "      <td>0</td>\n",
              "      <td>0</td>\n",
              "      <td>0</td>\n",
              "      <td>...</td>\n",
              "      <td>0</td>\n",
              "      <td>0</td>\n",
              "      <td>0</td>\n",
              "      <td>0</td>\n",
              "      <td>0</td>\n",
              "      <td>0</td>\n",
              "      <td>0</td>\n",
              "      <td>0</td>\n",
              "      <td>0</td>\n",
              "      <td>0</td>\n",
              "    </tr>\n",
              "    <tr>\n",
              "      <th>4</th>\n",
              "      <td>0</td>\n",
              "      <td>0</td>\n",
              "      <td>0</td>\n",
              "      <td>0</td>\n",
              "      <td>0</td>\n",
              "      <td>0</td>\n",
              "      <td>0</td>\n",
              "      <td>0</td>\n",
              "      <td>0</td>\n",
              "      <td>0</td>\n",
              "      <td>...</td>\n",
              "      <td>0</td>\n",
              "      <td>0</td>\n",
              "      <td>0</td>\n",
              "      <td>0</td>\n",
              "      <td>0</td>\n",
              "      <td>0</td>\n",
              "      <td>0</td>\n",
              "      <td>0</td>\n",
              "      <td>0</td>\n",
              "      <td>0</td>\n",
              "    </tr>\n",
              "  </tbody>\n",
              "</table>\n",
              "<p>5 rows × 500 columns</p>\n",
              "</div>"
            ],
            "text/plain": [
              "   ajax  api  aspnet  backend  bitrix  bootstrap  cms  crm  css  delphi  ...  \\\n",
              "0     0    0       0        0       0          0    0    0    0       0  ...   \n",
              "1     0    0       0        0       0          0    0    0    0       0  ...   \n",
              "2     0    0       0        0       0          0    0    0    0       0  ...   \n",
              "3     0    0       0        0       0          0    0    0    0       0  ...   \n",
              "4     0    0       0        0       0          0    0    0    0       0  ...   \n",
              "\n",
              "   читать  чпу  чтение  чужой  экономический  эксплуатация  электронный  это  \\\n",
              "0       0    0       0      0              0             0            0    0   \n",
              "1       0    0       0      0              0             0            1    0   \n",
              "2       0    0       0      0              0             0            0    0   \n",
              "3       0    0       0      0              0             0            0    0   \n",
              "4       0    0       0      0              0             0            0    0   \n",
              "\n",
              "   являться  язык  \n",
              "0         0     0  \n",
              "1         0     1  \n",
              "2         0     0  \n",
              "3         0     0  \n",
              "4         0     0  \n",
              "\n",
              "[5 rows x 500 columns]"
            ]
          },
          "execution_count": 5,
          "metadata": {},
          "output_type": "execute_result"
        }
      ],
      "source": [
        "russian_stopwords = stopwords.words(\"russian\") #стоп-слова\n",
        "vectorizer = CountVectorizer(max_features=500, min_df=20, max_df=0.7, stop_words=russian_stopwords)\n",
        "text_cv = vectorizer.fit_transform(train['process_text'])\n",
        "text_cv = pd.DataFrame(text_cv.toarray(),columns=vectorizer.get_feature_names_out())\n",
        "text_cv.head()"
      ]
    },
    {
      "cell_type": "code",
      "execution_count": null,
      "metadata": {
        "id": "YvyocPJSEYa8"
      },
      "outputs": [],
      "source": [
        "## 3 разбейте данные на обучающую и тестовую выборки"
      ]
    },
    {
      "cell_type": "code",
      "execution_count": 6,
      "metadata": {},
      "outputs": [],
      "source": [
        "X = text_cv\n",
        "Y = train['real_salary']"
      ]
    },
    {
      "cell_type": "code",
      "execution_count": 7,
      "metadata": {},
      "outputs": [],
      "source": [
        "from sklearn.model_selection import train_test_split\n",
        "X_train, X_test, Y_train, Y_test = train_test_split(X, Y, train_size=0.7, random_state=123)"
      ]
    },
    {
      "cell_type": "code",
      "execution_count": null,
      "metadata": {
        "id": "vU_hfK0m3iBh"
      },
      "outputs": [],
      "source": [
        "## 4 постройте любую регрессионную модель, используя любые известные вам алгоритмы и оцените её качество на тестовой выборке (метрику выберите сами)"
      ]
    },
    {
      "cell_type": "code",
      "execution_count": null,
      "metadata": {
        "id": "MDT50qUd333Q"
      },
      "outputs": [],
      "source": [
        "# для тестового набора данных с помощью вашей модели предскажите значение real_salary, метрика для проверки MAE"
      ]
    },
    {
      "cell_type": "code",
      "execution_count": 13,
      "metadata": {
        "colab": {
          "base_uri": "https://localhost:8080/",
          "height": 206
        },
        "id": "lvYwfLPF3qMT",
        "outputId": "4d97492e-acc9-44ca-eb77-c24a56d9ef14"
      },
      "outputs": [
        {
          "data": {
            "text/html": [
              "<div>\n",
              "<style scoped>\n",
              "    .dataframe tbody tr th:only-of-type {\n",
              "        vertical-align: middle;\n",
              "    }\n",
              "\n",
              "    .dataframe tbody tr th {\n",
              "        vertical-align: top;\n",
              "    }\n",
              "\n",
              "    .dataframe thead th {\n",
              "        text-align: right;\n",
              "    }\n",
              "</style>\n",
              "<table border=\"1\" class=\"dataframe\">\n",
              "  <thead>\n",
              "    <tr style=\"text-align: right;\">\n",
              "      <th></th>\n",
              "      <th>title</th>\n",
              "      <th>description</th>\n",
              "    </tr>\n",
              "  </thead>\n",
              "  <tbody>\n",
              "    <tr>\n",
              "      <th>0</th>\n",
              "      <td>Ведущий программист-аналитик 1С</td>\n",
              "      <td>Основные требования к опыту и знаниям: Опыт ра...</td>\n",
              "    </tr>\n",
              "    <tr>\n",
              "      <th>1</th>\n",
              "      <td>Инженер-программист (ЧПУ)</td>\n",
              "      <td>Образование высшее профессиональное - Технолог...</td>\n",
              "    </tr>\n",
              "    <tr>\n",
              "      <th>2</th>\n",
              "      <td>Программист ПЛК (PLC)</td>\n",
              "      <td>ПЛК Coolmay управляется через GX Work2 и нам н...</td>\n",
              "    </tr>\n",
              "    <tr>\n",
              "      <th>3</th>\n",
              "      <td>Инженер-Программист микроконтроллеров на С/С++...</td>\n",
              "      <td>Хорошее знание С/С++. Опыт разработки под семе...</td>\n",
              "    </tr>\n",
              "    <tr>\n",
              "      <th>4</th>\n",
              "      <td>Тестировщик программного обеспечения со знание...</td>\n",
              "      <td>Важно: практический опыт администрирования Lin...</td>\n",
              "    </tr>\n",
              "  </tbody>\n",
              "</table>\n",
              "</div>"
            ],
            "text/plain": [
              "                                               title  \\\n",
              "0                    Ведущий программист-аналитик 1С   \n",
              "1                          Инженер-программист (ЧПУ)   \n",
              "2                              Программист ПЛК (PLC)   \n",
              "3  Инженер-Программист микроконтроллеров на С/С++...   \n",
              "4  Тестировщик программного обеспечения со знание...   \n",
              "\n",
              "                                         description  \n",
              "0  Основные требования к опыту и знаниям: Опыт ра...  \n",
              "1  Образование высшее профессиональное - Технолог...  \n",
              "2  ПЛК Coolmay управляется через GX Work2 и нам н...  \n",
              "3  Хорошее знание С/С++. Опыт разработки под семе...  \n",
              "4  Важно: практический опыт администрирования Lin...  "
            ]
          },
          "execution_count": 13,
          "metadata": {},
          "output_type": "execute_result"
        }
      ],
      "source": [
        "test_features = pd.read_csv(r'C:\\Users\\User\\Desktop\\AI_DL_2025\\practices\\31.03-02.04\\test_features.csv')\n",
        "test_features.head()"
      ]
    },
    {
      "cell_type": "code",
      "execution_count": 15,
      "metadata": {
        "colab": {
          "base_uri": "https://localhost:8080/",
          "height": 256
        },
        "id": "haBYMX5v47g0",
        "outputId": "1adf4357-1eeb-444b-97a5-0823528b4184"
      },
      "outputs": [
        {
          "data": {
            "text/html": [
              "<div>\n",
              "<style scoped>\n",
              "    .dataframe tbody tr th:only-of-type {\n",
              "        vertical-align: middle;\n",
              "    }\n",
              "\n",
              "    .dataframe tbody tr th {\n",
              "        vertical-align: top;\n",
              "    }\n",
              "\n",
              "    .dataframe thead th {\n",
              "        text-align: right;\n",
              "    }\n",
              "</style>\n",
              "<table border=\"1\" class=\"dataframe\">\n",
              "  <thead>\n",
              "    <tr style=\"text-align: right;\">\n",
              "      <th></th>\n",
              "      <th>ajax</th>\n",
              "      <th>api</th>\n",
              "      <th>aspnet</th>\n",
              "      <th>backend</th>\n",
              "      <th>bitrix</th>\n",
              "      <th>bootstrap</th>\n",
              "      <th>cms</th>\n",
              "      <th>crm</th>\n",
              "      <th>css</th>\n",
              "      <th>delphi</th>\n",
              "      <th>...</th>\n",
              "      <th>читать</th>\n",
              "      <th>чпу</th>\n",
              "      <th>чтение</th>\n",
              "      <th>чужой</th>\n",
              "      <th>экономический</th>\n",
              "      <th>эксплуатация</th>\n",
              "      <th>электронный</th>\n",
              "      <th>это</th>\n",
              "      <th>являться</th>\n",
              "      <th>язык</th>\n",
              "    </tr>\n",
              "  </thead>\n",
              "  <tbody>\n",
              "    <tr>\n",
              "      <th>0</th>\n",
              "      <td>0</td>\n",
              "      <td>0</td>\n",
              "      <td>0</td>\n",
              "      <td>0</td>\n",
              "      <td>0</td>\n",
              "      <td>0</td>\n",
              "      <td>0</td>\n",
              "      <td>0</td>\n",
              "      <td>0</td>\n",
              "      <td>0</td>\n",
              "      <td>...</td>\n",
              "      <td>0</td>\n",
              "      <td>0</td>\n",
              "      <td>0</td>\n",
              "      <td>0</td>\n",
              "      <td>0</td>\n",
              "      <td>0</td>\n",
              "      <td>0</td>\n",
              "      <td>0</td>\n",
              "      <td>0</td>\n",
              "      <td>0</td>\n",
              "    </tr>\n",
              "    <tr>\n",
              "      <th>1</th>\n",
              "      <td>0</td>\n",
              "      <td>0</td>\n",
              "      <td>0</td>\n",
              "      <td>0</td>\n",
              "      <td>0</td>\n",
              "      <td>0</td>\n",
              "      <td>0</td>\n",
              "      <td>0</td>\n",
              "      <td>0</td>\n",
              "      <td>0</td>\n",
              "      <td>...</td>\n",
              "      <td>0</td>\n",
              "      <td>1</td>\n",
              "      <td>0</td>\n",
              "      <td>0</td>\n",
              "      <td>0</td>\n",
              "      <td>0</td>\n",
              "      <td>0</td>\n",
              "      <td>0</td>\n",
              "      <td>0</td>\n",
              "      <td>0</td>\n",
              "    </tr>\n",
              "    <tr>\n",
              "      <th>2</th>\n",
              "      <td>0</td>\n",
              "      <td>0</td>\n",
              "      <td>0</td>\n",
              "      <td>0</td>\n",
              "      <td>0</td>\n",
              "      <td>0</td>\n",
              "      <td>0</td>\n",
              "      <td>0</td>\n",
              "      <td>0</td>\n",
              "      <td>0</td>\n",
              "      <td>...</td>\n",
              "      <td>0</td>\n",
              "      <td>0</td>\n",
              "      <td>0</td>\n",
              "      <td>0</td>\n",
              "      <td>0</td>\n",
              "      <td>0</td>\n",
              "      <td>0</td>\n",
              "      <td>0</td>\n",
              "      <td>0</td>\n",
              "      <td>0</td>\n",
              "    </tr>\n",
              "    <tr>\n",
              "      <th>3</th>\n",
              "      <td>0</td>\n",
              "      <td>0</td>\n",
              "      <td>0</td>\n",
              "      <td>0</td>\n",
              "      <td>0</td>\n",
              "      <td>0</td>\n",
              "      <td>0</td>\n",
              "      <td>0</td>\n",
              "      <td>0</td>\n",
              "      <td>0</td>\n",
              "      <td>...</td>\n",
              "      <td>1</td>\n",
              "      <td>0</td>\n",
              "      <td>0</td>\n",
              "      <td>1</td>\n",
              "      <td>0</td>\n",
              "      <td>0</td>\n",
              "      <td>0</td>\n",
              "      <td>0</td>\n",
              "      <td>0</td>\n",
              "      <td>0</td>\n",
              "    </tr>\n",
              "    <tr>\n",
              "      <th>4</th>\n",
              "      <td>0</td>\n",
              "      <td>0</td>\n",
              "      <td>0</td>\n",
              "      <td>0</td>\n",
              "      <td>0</td>\n",
              "      <td>0</td>\n",
              "      <td>0</td>\n",
              "      <td>0</td>\n",
              "      <td>0</td>\n",
              "      <td>0</td>\n",
              "      <td>...</td>\n",
              "      <td>0</td>\n",
              "      <td>0</td>\n",
              "      <td>0</td>\n",
              "      <td>0</td>\n",
              "      <td>0</td>\n",
              "      <td>0</td>\n",
              "      <td>0</td>\n",
              "      <td>0</td>\n",
              "      <td>0</td>\n",
              "      <td>1</td>\n",
              "    </tr>\n",
              "  </tbody>\n",
              "</table>\n",
              "<p>5 rows × 500 columns</p>\n",
              "</div>"
            ],
            "text/plain": [
              "   ajax  api  aspnet  backend  bitrix  bootstrap  cms  crm  css  delphi  ...  \\\n",
              "0     0    0       0        0       0          0    0    0    0       0  ...   \n",
              "1     0    0       0        0       0          0    0    0    0       0  ...   \n",
              "2     0    0       0        0       0          0    0    0    0       0  ...   \n",
              "3     0    0       0        0       0          0    0    0    0       0  ...   \n",
              "4     0    0       0        0       0          0    0    0    0       0  ...   \n",
              "\n",
              "   читать  чпу  чтение  чужой  экономический  эксплуатация  электронный  это  \\\n",
              "0       0    0       0      0              0             0            0    0   \n",
              "1       0    1       0      0              0             0            0    0   \n",
              "2       0    0       0      0              0             0            0    0   \n",
              "3       1    0       0      1              0             0            0    0   \n",
              "4       0    0       0      0              0             0            0    0   \n",
              "\n",
              "   являться  язык  \n",
              "0         0     0  \n",
              "1         0     0  \n",
              "2         0     0  \n",
              "3         0     0  \n",
              "4         0     1  \n",
              "\n",
              "[5 rows x 500 columns]"
            ]
          },
          "execution_count": 15,
          "metadata": {},
          "output_type": "execute_result"
        }
      ],
      "source": [
        "#пример обученного векторизатора для тестовых данных (не забудьте нормализовать текст в тестовой выборке!)\n",
        "text_cv_test=vectorizer.transform(test_features['process_text'])\n",
        "text_cv_test = pd.DataFrame(text_cv_test.toarray(),columns=vectorizer.get_feature_names_out())\n",
        "text_cv_test.head()"
      ]
    },
    {
      "cell_type": "code",
      "execution_count": 16,
      "metadata": {
        "id": "7P1U65FfY-FO"
      },
      "outputs": [],
      "source": [
        "y_pred = model.predict(text_cv_test)"
      ]
    },
    {
      "cell_type": "code",
      "execution_count": null,
      "metadata": {
        "id": "LG18JC4Z3-Yt"
      },
      "outputs": [],
      "source": [
        "#пример формирования датафрейма для загрузки\n",
        "df = pd.DataFrame()\n",
        "df['result']=y_pred\n",
        "df.to_csv('title.csv',index=False)"
      ]
    },
    {
      "cell_type": "code",
      "execution_count": null,
      "metadata": {},
      "outputs": [],
      "source": [
        "# результат прогноза для тестовой выборки просылаем в формате csv,\n",
        "# где лежит только один столбец result, название файла - Фамилия_Группа.csv\n",
        "# группа ИБ или БПМ - пример Бимбумбамов_ИБ.csv или Бимбумбамов_БПМ.csv"
      ]
    }
  ],
  "metadata": {
    "colab": {
      "provenance": []
    },
    "kernelspec": {
      "display_name": "Python 3",
      "name": "python3"
    },
    "language_info": {
      "codemirror_mode": {
        "name": "ipython",
        "version": 3
      },
      "file_extension": ".py",
      "mimetype": "text/x-python",
      "name": "python",
      "nbconvert_exporter": "python",
      "pygments_lexer": "ipython3",
      "version": "3.11.5"
    }
  },
  "nbformat": 4,
  "nbformat_minor": 0
}
