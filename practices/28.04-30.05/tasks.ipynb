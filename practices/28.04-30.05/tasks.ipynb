{
  "cells": [
    {
      "cell_type": "markdown",
      "metadata": {
        "id": "fqJidHcQ3lZQ"
      },
      "source": [
        "## Улыбаемся"
      ]
    },
    {
      "cell_type": "code",
      "execution_count": null,
      "metadata": {
        "id": "kBZMjhFJf0Rg"
      },
      "outputs": [],
      "source": [
        "#1 - распакуйте архив с помощью команды unzip"
      ]
    },
    {
      "cell_type": "code",
      "execution_count": null,
      "metadata": {
        "id": "79fTEJjHf9dy"
      },
      "outputs": [],
      "source": [
        "#2 - загрузите изображения средствами keras"
      ]
    },
    {
      "cell_type": "code",
      "execution_count": 1,
      "metadata": {},
      "outputs": [],
      "source": [
        "image_size = (150, 150) #размер, к которому будем приводить каждую картинку\n",
        "\n",
        "data_dir = r'C:\\Users\\User\\Desktop\\bimbum\\archive' #путь к папке\n",
        "\n",
        "class_names = ['non_smile','smile']"
      ]
    },
    {
      "cell_type": "code",
      "execution_count": 2,
      "metadata": {},
      "outputs": [
        {
          "name": "stdout",
          "output_type": "stream",
          "text": [
            "Found 1203 images belonging to 2 classes.\n"
          ]
        }
      ],
      "source": [
        "import tensorflow as tf\n",
        "from tensorflow.keras.preprocessing.image import ImageDataGenerator\n",
        "\n",
        "\n",
        "tf.random.set_seed(42)\n",
        "\n",
        "# предварительная обработка данных (масштабирование и нормализация)\n",
        "datagen = ImageDataGenerator(rescale=1/255.)\n",
        "\n",
        "\n",
        "# data generators\n",
        "batch_size = 5\n",
        "class_mode = 'binary'\n",
        "train_data = datagen.flow_from_directory(data_dir, batch_size=batch_size, target_size=image_size, class_mode=class_mode, seed=42)"
      ]
    },
    {
      "cell_type": "code",
      "execution_count": null,
      "metadata": {
        "id": "RM9pDywfgCQL"
      },
      "outputs": [],
      "source": [
        "#3 - реализуйте модель для прогнозирования улыбки"
      ]
    },
    {
      "cell_type": "code",
      "execution_count": null,
      "metadata": {
        "id": "OTOYMEh7gZYA"
      },
      "outputs": [],
      "source": [
        "#4 - распакуйте архив с тестовыми изображениями, выполните прогноз и проверьте качество работы вашей модели"
      ]
    },
    {
      "cell_type": "code",
      "execution_count": null,
      "metadata": {},
      "outputs": [],
      "source": [
        "#5 - сохраните модель (файл .keras) и скиньте мне в личку телеграм"
      ]
    }
  ],
  "metadata": {
    "colab": {
      "provenance": []
    },
    "kernelspec": {
      "display_name": "Python 3",
      "name": "python3"
    },
    "language_info": {
      "codemirror_mode": {
        "name": "ipython",
        "version": 3
      },
      "file_extension": ".py",
      "mimetype": "text/x-python",
      "name": "python",
      "nbconvert_exporter": "python",
      "pygments_lexer": "ipython3",
      "version": "3.11.5"
    }
  },
  "nbformat": 4,
  "nbformat_minor": 0
}
