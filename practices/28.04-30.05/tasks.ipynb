{
  "cells": [
    {
      "cell_type": "markdown",
      "metadata": {
        "id": "fqJidHcQ3lZQ"
      },
      "source": [
        "## Улыбаемся"
      ]
    },
    {
      "cell_type": "code",
      "execution_count": null,
      "metadata": {
        "id": "kBZMjhFJf0Rg"
      },
      "outputs": [],
      "source": [
        "#1 - распакуйте архив с помощью команды unzip"
      ]
    },
    {
      "cell_type": "code",
      "execution_count": null,
      "metadata": {
        "id": "79fTEJjHf9dy"
      },
      "outputs": [],
      "source": [
        "#2 - загрузите изображения средствами keras"
      ]
    },
    {
      "cell_type": "code",
      "execution_count": null,
      "metadata": {
        "id": "RM9pDywfgCQL"
      },
      "outputs": [],
      "source": [
        "#3 - реализуйте модель для прогнозирования улыбки"
      ]
    },
    {
      "cell_type": "code",
      "execution_count": null,
      "metadata": {
        "id": "OTOYMEh7gZYA"
      },
      "outputs": [],
      "source": [
        "#4 - распакуйте архив с тестовыми изображениями, выполните прогноз и проверьте качество работы вашей модели"
      ]
    },
    {
      "cell_type": "code",
      "execution_count": null,
      "metadata": {},
      "outputs": [],
      "source": [
        "#5 - сохраните модель (файл .keras) и скиньте мне в личку телеграм"
      ]
    }
  ],
  "metadata": {
    "colab": {
      "provenance": []
    },
    "kernelspec": {
      "display_name": "Python 3",
      "name": "python3"
    },
    "language_info": {
      "name": "python"
    }
  },
  "nbformat": 4,
  "nbformat_minor": 0
}
