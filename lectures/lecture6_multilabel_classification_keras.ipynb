{
  "nbformat": 4,
  "nbformat_minor": 0,
  "metadata": {
    "colab": {
      "provenance": []
    },
    "kernelspec": {
      "name": "python3",
      "display_name": "Python 3"
    },
    "language_info": {
      "name": "python"
    }
  },
  "cells": [
    {
      "cell_type": "code",
      "execution_count": null,
      "metadata": {
        "id": "GmeMcF2CMFDt"
      },
      "outputs": [],
      "source": [
        "import pandas as pd\n",
        "import tensorflow as tf\n",
        "import keras\n",
        "from keras.models import Sequential\n",
        "from keras.layers import Dense\n",
        "from tensorflow.keras.utils import to_categorical\n",
        "from sklearn.preprocessing import LabelEncoder\n",
        "from sklearn.model_selection import train_test_split\n",
        "import numpy as np\n",
        "from sklearn.preprocessing import StandardScaler"
      ]
    },
    {
      "cell_type": "markdown",
      "source": [
        "Набор данных должен быть вам знаком - это заявки в ЖКХ. Каждая строчка заявка, признаки - сколько раз встретилось то или иное слово в заявке, и есть результирующая переменная - это категория заявки."
      ],
      "metadata": {
        "id": "AVC6gK8n_Vwy"
      }
    },
    {
      "cell_type": "code",
      "source": [
        "df = pd.read_csv('/content/drive/MyDrive/Machine Learning (ITHUB) /ДИ 2023/lessons/data/zayavki.csv')\n",
        "df.head()"
      ],
      "metadata": {
        "colab": {
          "base_uri": "https://localhost:8080/",
          "height": 377
        },
        "id": "L3EXf4G0MYm0",
        "outputId": "c33ae8de-f74f-46cf-ef62-703ddc257126"
      },
      "execution_count": null,
      "outputs": [
        {
          "output_type": "execute_result",
          "data": {
            "text/plain": [
              "   httpgorodgovspbruproblems  аварийный  автомобиль  административный  \\\n",
              "0                          0          0           0                 0   \n",
              "1                          0          0           0                 0   \n",
              "2                          0          0           0                 0   \n",
              "3                          0          0           0                 0   \n",
              "4                          0          0           0                 0   \n",
              "\n",
              "   администрация  адрес  арка  асфальт  асфальтовый  бак  ...  элемент  этаж  \\\n",
              "0              0      0     0        0            0    0  ...        0     1   \n",
              "1              0      0     0        0            0    0  ...        0     0   \n",
              "2              0      0     0        0            0    0  ...        0     0   \n",
              "3              0      0     0        0            0    0  ...        0     1   \n",
              "4              0      0     0        0            0    0  ...        0     0   \n",
              "\n",
              "   это  являться  ям  яма  январь  ящик  id_category  \\\n",
              "0    0         0   0    0       0     0           10   \n",
              "1    0         0   0    0       0     0           10   \n",
              "2    0         0   0    0       0     0            3   \n",
              "3    0         0   0    0       0     0           10   \n",
              "4    0         0   0    0       0     0           23   \n",
              "\n",
              "                                        category  \n",
              "0                                 Содержание МКД  \n",
              "1                                 Содержание МКД  \n",
              "2                                Благоустройство  \n",
              "3                                 Содержание МКД  \n",
              "4  Нарушение правил пользования общим имуществом  \n",
              "\n",
              "[5 rows x 502 columns]"
            ],
            "text/html": [
              "\n",
              "  <div id=\"df-57da5579-4fa3-4856-9357-dd5cb1ac6f39\" class=\"colab-df-container\">\n",
              "    <div>\n",
              "<style scoped>\n",
              "    .dataframe tbody tr th:only-of-type {\n",
              "        vertical-align: middle;\n",
              "    }\n",
              "\n",
              "    .dataframe tbody tr th {\n",
              "        vertical-align: top;\n",
              "    }\n",
              "\n",
              "    .dataframe thead th {\n",
              "        text-align: right;\n",
              "    }\n",
              "</style>\n",
              "<table border=\"1\" class=\"dataframe\">\n",
              "  <thead>\n",
              "    <tr style=\"text-align: right;\">\n",
              "      <th></th>\n",
              "      <th>httpgorodgovspbruproblems</th>\n",
              "      <th>аварийный</th>\n",
              "      <th>автомобиль</th>\n",
              "      <th>административный</th>\n",
              "      <th>администрация</th>\n",
              "      <th>адрес</th>\n",
              "      <th>арка</th>\n",
              "      <th>асфальт</th>\n",
              "      <th>асфальтовый</th>\n",
              "      <th>бак</th>\n",
              "      <th>...</th>\n",
              "      <th>элемент</th>\n",
              "      <th>этаж</th>\n",
              "      <th>это</th>\n",
              "      <th>являться</th>\n",
              "      <th>ям</th>\n",
              "      <th>яма</th>\n",
              "      <th>январь</th>\n",
              "      <th>ящик</th>\n",
              "      <th>id_category</th>\n",
              "      <th>category</th>\n",
              "    </tr>\n",
              "  </thead>\n",
              "  <tbody>\n",
              "    <tr>\n",
              "      <th>0</th>\n",
              "      <td>0</td>\n",
              "      <td>0</td>\n",
              "      <td>0</td>\n",
              "      <td>0</td>\n",
              "      <td>0</td>\n",
              "      <td>0</td>\n",
              "      <td>0</td>\n",
              "      <td>0</td>\n",
              "      <td>0</td>\n",
              "      <td>0</td>\n",
              "      <td>...</td>\n",
              "      <td>0</td>\n",
              "      <td>1</td>\n",
              "      <td>0</td>\n",
              "      <td>0</td>\n",
              "      <td>0</td>\n",
              "      <td>0</td>\n",
              "      <td>0</td>\n",
              "      <td>0</td>\n",
              "      <td>10</td>\n",
              "      <td>Содержание МКД</td>\n",
              "    </tr>\n",
              "    <tr>\n",
              "      <th>1</th>\n",
              "      <td>0</td>\n",
              "      <td>0</td>\n",
              "      <td>0</td>\n",
              "      <td>0</td>\n",
              "      <td>0</td>\n",
              "      <td>0</td>\n",
              "      <td>0</td>\n",
              "      <td>0</td>\n",
              "      <td>0</td>\n",
              "      <td>0</td>\n",
              "      <td>...</td>\n",
              "      <td>0</td>\n",
              "      <td>0</td>\n",
              "      <td>0</td>\n",
              "      <td>0</td>\n",
              "      <td>0</td>\n",
              "      <td>0</td>\n",
              "      <td>0</td>\n",
              "      <td>0</td>\n",
              "      <td>10</td>\n",
              "      <td>Содержание МКД</td>\n",
              "    </tr>\n",
              "    <tr>\n",
              "      <th>2</th>\n",
              "      <td>0</td>\n",
              "      <td>0</td>\n",
              "      <td>0</td>\n",
              "      <td>0</td>\n",
              "      <td>0</td>\n",
              "      <td>0</td>\n",
              "      <td>0</td>\n",
              "      <td>0</td>\n",
              "      <td>0</td>\n",
              "      <td>0</td>\n",
              "      <td>...</td>\n",
              "      <td>0</td>\n",
              "      <td>0</td>\n",
              "      <td>0</td>\n",
              "      <td>0</td>\n",
              "      <td>0</td>\n",
              "      <td>0</td>\n",
              "      <td>0</td>\n",
              "      <td>0</td>\n",
              "      <td>3</td>\n",
              "      <td>Благоустройство</td>\n",
              "    </tr>\n",
              "    <tr>\n",
              "      <th>3</th>\n",
              "      <td>0</td>\n",
              "      <td>0</td>\n",
              "      <td>0</td>\n",
              "      <td>0</td>\n",
              "      <td>0</td>\n",
              "      <td>0</td>\n",
              "      <td>0</td>\n",
              "      <td>0</td>\n",
              "      <td>0</td>\n",
              "      <td>0</td>\n",
              "      <td>...</td>\n",
              "      <td>0</td>\n",
              "      <td>1</td>\n",
              "      <td>0</td>\n",
              "      <td>0</td>\n",
              "      <td>0</td>\n",
              "      <td>0</td>\n",
              "      <td>0</td>\n",
              "      <td>0</td>\n",
              "      <td>10</td>\n",
              "      <td>Содержание МКД</td>\n",
              "    </tr>\n",
              "    <tr>\n",
              "      <th>4</th>\n",
              "      <td>0</td>\n",
              "      <td>0</td>\n",
              "      <td>0</td>\n",
              "      <td>0</td>\n",
              "      <td>0</td>\n",
              "      <td>0</td>\n",
              "      <td>0</td>\n",
              "      <td>0</td>\n",
              "      <td>0</td>\n",
              "      <td>0</td>\n",
              "      <td>...</td>\n",
              "      <td>0</td>\n",
              "      <td>0</td>\n",
              "      <td>0</td>\n",
              "      <td>0</td>\n",
              "      <td>0</td>\n",
              "      <td>0</td>\n",
              "      <td>0</td>\n",
              "      <td>0</td>\n",
              "      <td>23</td>\n",
              "      <td>Нарушение правил пользования общим имуществом</td>\n",
              "    </tr>\n",
              "  </tbody>\n",
              "</table>\n",
              "<p>5 rows × 502 columns</p>\n",
              "</div>\n",
              "    <div class=\"colab-df-buttons\">\n",
              "\n",
              "  <div class=\"colab-df-container\">\n",
              "    <button class=\"colab-df-convert\" onclick=\"convertToInteractive('df-57da5579-4fa3-4856-9357-dd5cb1ac6f39')\"\n",
              "            title=\"Convert this dataframe to an interactive table.\"\n",
              "            style=\"display:none;\">\n",
              "\n",
              "  <svg xmlns=\"http://www.w3.org/2000/svg\" height=\"24px\" viewBox=\"0 -960 960 960\">\n",
              "    <path d=\"M120-120v-720h720v720H120Zm60-500h600v-160H180v160Zm220 220h160v-160H400v160Zm0 220h160v-160H400v160ZM180-400h160v-160H180v160Zm440 0h160v-160H620v160ZM180-180h160v-160H180v160Zm440 0h160v-160H620v160Z\"/>\n",
              "  </svg>\n",
              "    </button>\n",
              "\n",
              "  <style>\n",
              "    .colab-df-container {\n",
              "      display:flex;\n",
              "      gap: 12px;\n",
              "    }\n",
              "\n",
              "    .colab-df-convert {\n",
              "      background-color: #E8F0FE;\n",
              "      border: none;\n",
              "      border-radius: 50%;\n",
              "      cursor: pointer;\n",
              "      display: none;\n",
              "      fill: #1967D2;\n",
              "      height: 32px;\n",
              "      padding: 0 0 0 0;\n",
              "      width: 32px;\n",
              "    }\n",
              "\n",
              "    .colab-df-convert:hover {\n",
              "      background-color: #E2EBFA;\n",
              "      box-shadow: 0px 1px 2px rgba(60, 64, 67, 0.3), 0px 1px 3px 1px rgba(60, 64, 67, 0.15);\n",
              "      fill: #174EA6;\n",
              "    }\n",
              "\n",
              "    .colab-df-buttons div {\n",
              "      margin-bottom: 4px;\n",
              "    }\n",
              "\n",
              "    [theme=dark] .colab-df-convert {\n",
              "      background-color: #3B4455;\n",
              "      fill: #D2E3FC;\n",
              "    }\n",
              "\n",
              "    [theme=dark] .colab-df-convert:hover {\n",
              "      background-color: #434B5C;\n",
              "      box-shadow: 0px 1px 3px 1px rgba(0, 0, 0, 0.15);\n",
              "      filter: drop-shadow(0px 1px 2px rgba(0, 0, 0, 0.3));\n",
              "      fill: #FFFFFF;\n",
              "    }\n",
              "  </style>\n",
              "\n",
              "    <script>\n",
              "      const buttonEl =\n",
              "        document.querySelector('#df-57da5579-4fa3-4856-9357-dd5cb1ac6f39 button.colab-df-convert');\n",
              "      buttonEl.style.display =\n",
              "        google.colab.kernel.accessAllowed ? 'block' : 'none';\n",
              "\n",
              "      async function convertToInteractive(key) {\n",
              "        const element = document.querySelector('#df-57da5579-4fa3-4856-9357-dd5cb1ac6f39');\n",
              "        const dataTable =\n",
              "          await google.colab.kernel.invokeFunction('convertToInteractive',\n",
              "                                                    [key], {});\n",
              "        if (!dataTable) return;\n",
              "\n",
              "        const docLinkHtml = 'Like what you see? Visit the ' +\n",
              "          '<a target=\"_blank\" href=https://colab.research.google.com/notebooks/data_table.ipynb>data table notebook</a>'\n",
              "          + ' to learn more about interactive tables.';\n",
              "        element.innerHTML = '';\n",
              "        dataTable['output_type'] = 'display_data';\n",
              "        await google.colab.output.renderOutput(dataTable, element);\n",
              "        const docLink = document.createElement('div');\n",
              "        docLink.innerHTML = docLinkHtml;\n",
              "        element.appendChild(docLink);\n",
              "      }\n",
              "    </script>\n",
              "  </div>\n",
              "\n",
              "\n",
              "<div id=\"df-f26dee8e-be90-4931-97c0-899f6086d00e\">\n",
              "  <button class=\"colab-df-quickchart\" onclick=\"quickchart('df-f26dee8e-be90-4931-97c0-899f6086d00e')\"\n",
              "            title=\"Suggest charts.\"\n",
              "            style=\"display:none;\">\n",
              "\n",
              "<svg xmlns=\"http://www.w3.org/2000/svg\" height=\"24px\"viewBox=\"0 0 24 24\"\n",
              "     width=\"24px\">\n",
              "    <g>\n",
              "        <path d=\"M19 3H5c-1.1 0-2 .9-2 2v14c0 1.1.9 2 2 2h14c1.1 0 2-.9 2-2V5c0-1.1-.9-2-2-2zM9 17H7v-7h2v7zm4 0h-2V7h2v10zm4 0h-2v-4h2v4z\"/>\n",
              "    </g>\n",
              "</svg>\n",
              "  </button>\n",
              "\n",
              "<style>\n",
              "  .colab-df-quickchart {\n",
              "      --bg-color: #E8F0FE;\n",
              "      --fill-color: #1967D2;\n",
              "      --hover-bg-color: #E2EBFA;\n",
              "      --hover-fill-color: #174EA6;\n",
              "      --disabled-fill-color: #AAA;\n",
              "      --disabled-bg-color: #DDD;\n",
              "  }\n",
              "\n",
              "  [theme=dark] .colab-df-quickchart {\n",
              "      --bg-color: #3B4455;\n",
              "      --fill-color: #D2E3FC;\n",
              "      --hover-bg-color: #434B5C;\n",
              "      --hover-fill-color: #FFFFFF;\n",
              "      --disabled-bg-color: #3B4455;\n",
              "      --disabled-fill-color: #666;\n",
              "  }\n",
              "\n",
              "  .colab-df-quickchart {\n",
              "    background-color: var(--bg-color);\n",
              "    border: none;\n",
              "    border-radius: 50%;\n",
              "    cursor: pointer;\n",
              "    display: none;\n",
              "    fill: var(--fill-color);\n",
              "    height: 32px;\n",
              "    padding: 0;\n",
              "    width: 32px;\n",
              "  }\n",
              "\n",
              "  .colab-df-quickchart:hover {\n",
              "    background-color: var(--hover-bg-color);\n",
              "    box-shadow: 0 1px 2px rgba(60, 64, 67, 0.3), 0 1px 3px 1px rgba(60, 64, 67, 0.15);\n",
              "    fill: var(--button-hover-fill-color);\n",
              "  }\n",
              "\n",
              "  .colab-df-quickchart-complete:disabled,\n",
              "  .colab-df-quickchart-complete:disabled:hover {\n",
              "    background-color: var(--disabled-bg-color);\n",
              "    fill: var(--disabled-fill-color);\n",
              "    box-shadow: none;\n",
              "  }\n",
              "\n",
              "  .colab-df-spinner {\n",
              "    border: 2px solid var(--fill-color);\n",
              "    border-color: transparent;\n",
              "    border-bottom-color: var(--fill-color);\n",
              "    animation:\n",
              "      spin 1s steps(1) infinite;\n",
              "  }\n",
              "\n",
              "  @keyframes spin {\n",
              "    0% {\n",
              "      border-color: transparent;\n",
              "      border-bottom-color: var(--fill-color);\n",
              "      border-left-color: var(--fill-color);\n",
              "    }\n",
              "    20% {\n",
              "      border-color: transparent;\n",
              "      border-left-color: var(--fill-color);\n",
              "      border-top-color: var(--fill-color);\n",
              "    }\n",
              "    30% {\n",
              "      border-color: transparent;\n",
              "      border-left-color: var(--fill-color);\n",
              "      border-top-color: var(--fill-color);\n",
              "      border-right-color: var(--fill-color);\n",
              "    }\n",
              "    40% {\n",
              "      border-color: transparent;\n",
              "      border-right-color: var(--fill-color);\n",
              "      border-top-color: var(--fill-color);\n",
              "    }\n",
              "    60% {\n",
              "      border-color: transparent;\n",
              "      border-right-color: var(--fill-color);\n",
              "    }\n",
              "    80% {\n",
              "      border-color: transparent;\n",
              "      border-right-color: var(--fill-color);\n",
              "      border-bottom-color: var(--fill-color);\n",
              "    }\n",
              "    90% {\n",
              "      border-color: transparent;\n",
              "      border-bottom-color: var(--fill-color);\n",
              "    }\n",
              "  }\n",
              "</style>\n",
              "\n",
              "  <script>\n",
              "    async function quickchart(key) {\n",
              "      const quickchartButtonEl =\n",
              "        document.querySelector('#' + key + ' button');\n",
              "      quickchartButtonEl.disabled = true;  // To prevent multiple clicks.\n",
              "      quickchartButtonEl.classList.add('colab-df-spinner');\n",
              "      try {\n",
              "        const charts = await google.colab.kernel.invokeFunction(\n",
              "            'suggestCharts', [key], {});\n",
              "      } catch (error) {\n",
              "        console.error('Error during call to suggestCharts:', error);\n",
              "      }\n",
              "      quickchartButtonEl.classList.remove('colab-df-spinner');\n",
              "      quickchartButtonEl.classList.add('colab-df-quickchart-complete');\n",
              "    }\n",
              "    (() => {\n",
              "      let quickchartButtonEl =\n",
              "        document.querySelector('#df-f26dee8e-be90-4931-97c0-899f6086d00e button');\n",
              "      quickchartButtonEl.style.display =\n",
              "        google.colab.kernel.accessAllowed ? 'block' : 'none';\n",
              "    })();\n",
              "  </script>\n",
              "</div>\n",
              "    </div>\n",
              "  </div>\n"
            ]
          },
          "metadata": {},
          "execution_count": 2
        }
      ]
    },
    {
      "cell_type": "code",
      "source": [
        "#признаки\n",
        "X=df.drop(['id_category','category'],axis=1)\n",
        "scal_X = StandardScaler().fit_transform(X)\n",
        "scal_X = pd.DataFrame(scal_X, columns=X.columns)\n",
        "scal_X.shape"
      ],
      "metadata": {
        "colab": {
          "base_uri": "https://localhost:8080/",
          "height": 216
        },
        "id": "wzQALaLH_r5k",
        "outputId": "68cffd41-2438-4ecd-9356-6e18ef627035",
        "collapsed": true
      },
      "execution_count": null,
      "outputs": [
        {
          "output_type": "error",
          "ename": "NameError",
          "evalue": "name 'df' is not defined",
          "traceback": [
            "\u001b[0;31m---------------------------------------------------------------------------\u001b[0m",
            "\u001b[0;31mNameError\u001b[0m                                 Traceback (most recent call last)",
            "\u001b[0;32m<ipython-input-1-b29c156396ee>\u001b[0m in \u001b[0;36m<cell line: 2>\u001b[0;34m()\u001b[0m\n\u001b[1;32m      1\u001b[0m \u001b[0;31m#признаки\u001b[0m\u001b[0;34m\u001b[0m\u001b[0;34m\u001b[0m\u001b[0m\n\u001b[0;32m----> 2\u001b[0;31m \u001b[0mX\u001b[0m\u001b[0;34m=\u001b[0m\u001b[0mdf\u001b[0m\u001b[0;34m.\u001b[0m\u001b[0mdrop\u001b[0m\u001b[0;34m(\u001b[0m\u001b[0;34m[\u001b[0m\u001b[0;34m'id_category'\u001b[0m\u001b[0;34m,\u001b[0m\u001b[0;34m'category'\u001b[0m\u001b[0;34m]\u001b[0m\u001b[0;34m,\u001b[0m\u001b[0maxis\u001b[0m\u001b[0;34m=\u001b[0m\u001b[0;36m1\u001b[0m\u001b[0;34m)\u001b[0m\u001b[0;34m\u001b[0m\u001b[0;34m\u001b[0m\u001b[0m\n\u001b[0m\u001b[1;32m      3\u001b[0m \u001b[0mscal_X\u001b[0m \u001b[0;34m=\u001b[0m \u001b[0mStandardScaler\u001b[0m\u001b[0;34m(\u001b[0m\u001b[0;34m)\u001b[0m\u001b[0;34m.\u001b[0m\u001b[0mfit_transform\u001b[0m\u001b[0;34m(\u001b[0m\u001b[0mX\u001b[0m\u001b[0;34m)\u001b[0m\u001b[0;34m\u001b[0m\u001b[0;34m\u001b[0m\u001b[0m\n\u001b[1;32m      4\u001b[0m \u001b[0mscal_X\u001b[0m \u001b[0;34m=\u001b[0m \u001b[0mpd\u001b[0m\u001b[0;34m.\u001b[0m\u001b[0mDataFrame\u001b[0m\u001b[0;34m(\u001b[0m\u001b[0mscal_X\u001b[0m\u001b[0;34m,\u001b[0m \u001b[0mcolumns\u001b[0m\u001b[0;34m=\u001b[0m\u001b[0mX\u001b[0m\u001b[0;34m.\u001b[0m\u001b[0mcolumns\u001b[0m\u001b[0;34m)\u001b[0m\u001b[0;34m\u001b[0m\u001b[0;34m\u001b[0m\u001b[0m\n\u001b[1;32m      5\u001b[0m \u001b[0mscal_X\u001b[0m\u001b[0;34m.\u001b[0m\u001b[0mshape\u001b[0m\u001b[0;34m\u001b[0m\u001b[0;34m\u001b[0m\u001b[0m\n",
            "\u001b[0;31mNameError\u001b[0m: name 'df' is not defined"
          ]
        }
      ]
    },
    {
      "cell_type": "markdown",
      "source": [
        "В случае результирующей переменной  в задаче многоклассовой классификации  для сетки важно, чтобы каждая уникальная метка была представлена отдельным столбцом"
      ],
      "metadata": {
        "id": "rMk5hnrE_1iP"
      }
    },
    {
      "cell_type": "code",
      "source": [
        "encoder = LabelEncoder() #кодируем каждую метку класса числом\n",
        "y = encoder.fit_transform(df['category'])\n",
        "print(df['category'][:10].values)\n",
        "print(y[:10])"
      ],
      "metadata": {
        "colab": {
          "base_uri": "https://localhost:8080/"
        },
        "id": "lRPmR4wc_zGl",
        "outputId": "da2c74f7-b965-4477-f6b6-ff077bf857b7"
      },
      "execution_count": null,
      "outputs": [
        {
          "output_type": "stream",
          "name": "stdout",
          "text": [
            "['Содержание МКД' 'Содержание МКД' 'Благоустройство' 'Содержание МКД'\n",
            " 'Нарушение правил пользования общим имуществом' 'Содержание МКД'\n",
            " 'Благоустройство' 'Центральное отопление' 'Благоустройство'\n",
            " 'Благоустройство']\n",
            "[11 11  0 11  5 11  0 14  0  0]\n"
          ]
        }
      ]
    },
    {
      "cell_type": "code",
      "source": [
        "#как раскодить обратно\n",
        "encoder.inverse_transform(y[:10])"
      ],
      "metadata": {
        "colab": {
          "base_uri": "https://localhost:8080/"
        },
        "id": "r_TWR8ClBrQ3",
        "outputId": "8b688d9f-8212-4454-89b7-b9c94ccb038c"
      },
      "execution_count": null,
      "outputs": [
        {
          "output_type": "execute_result",
          "data": {
            "text/plain": [
              "array(['Содержание МКД', 'Содержание МКД', 'Благоустройство',\n",
              "       'Содержание МКД', 'Нарушение правил пользования общим имуществом',\n",
              "       'Содержание МКД', 'Благоустройство', 'Центральное отопление',\n",
              "       'Благоустройство', 'Благоустройство'], dtype=object)"
            ]
          },
          "metadata": {},
          "execution_count": 5
        }
      ]
    },
    {
      "cell_type": "code",
      "source": [
        "y.shape"
      ],
      "metadata": {
        "colab": {
          "base_uri": "https://localhost:8080/"
        },
        "id": "qMyr_U4bVqnX",
        "outputId": "9f5b55ed-a28d-40d9-8c17-ae9ea2912e6f"
      },
      "execution_count": null,
      "outputs": [
        {
          "output_type": "execute_result",
          "data": {
            "text/plain": [
              "(59889,)"
            ]
          },
          "metadata": {},
          "execution_count": 6
        }
      ]
    },
    {
      "cell_type": "code",
      "source": [
        "#теперь y это массив с 15 столбцами, каждый столбец - уникальная метка класса\n",
        "y = to_categorical(y) #превращаем в кучу столбцов\n",
        "y.shape"
      ],
      "metadata": {
        "colab": {
          "base_uri": "https://localhost:8080/"
        },
        "id": "dexY5ll7BAxu",
        "outputId": "295ccc6e-686b-4300-e3b7-a0f0e7707d9c"
      },
      "execution_count": null,
      "outputs": [
        {
          "output_type": "execute_result",
          "data": {
            "text/plain": [
              "(59889, 15)"
            ]
          },
          "metadata": {},
          "execution_count": 7
        }
      ]
    },
    {
      "cell_type": "code",
      "source": [
        "y[0]"
      ],
      "metadata": {
        "colab": {
          "base_uri": "https://localhost:8080/"
        },
        "id": "3a0JRskYV_v7",
        "outputId": "e63d0ba3-562c-4d89-aebc-d0e97917a05f"
      },
      "execution_count": null,
      "outputs": [
        {
          "output_type": "execute_result",
          "data": {
            "text/plain": [
              "array([0., 0., 0., 0., 0., 0., 0., 0., 0., 0., 0., 1., 0., 0., 0.],\n",
              "      dtype=float32)"
            ]
          },
          "metadata": {},
          "execution_count": 8
        }
      ]
    },
    {
      "cell_type": "code",
      "source": [
        "X_train_full,X_test,y_train_full,y_test = train_test_split(scal_X,y,test_size=0.2,random_state=0)\n",
        "X_train,X_valid,y_train,y_valid = train_test_split(X_train_full,y_train_full,test_size=0.2,random_state=0)"
      ],
      "metadata": {
        "id": "KrajUcU3CwAp"
      },
      "execution_count": null,
      "outputs": []
    },
    {
      "cell_type": "code",
      "source": [
        "y.shape[1]"
      ],
      "metadata": {
        "colab": {
          "base_uri": "https://localhost:8080/"
        },
        "id": "YJrHbFhwYL3A",
        "outputId": "7a439dbc-7130-49e6-afc9-6006220bc04e"
      },
      "execution_count": null,
      "outputs": [
        {
          "output_type": "execute_result",
          "data": {
            "text/plain": [
              "15"
            ]
          },
          "metadata": {},
          "execution_count": 10
        }
      ]
    },
    {
      "cell_type": "code",
      "source": [
        "model = keras.models.Sequential()\n",
        "model.add(Dense(500, activation='relu', input_dim=X_train.shape[1]))\n",
        "model.add(Dense(256, activation='relu'))\n",
        "model.add(Dense(64, activation='relu'))\n",
        "model.add(Dense(y.shape[1], activation='softmax'))"
      ],
      "metadata": {
        "id": "XRan8aM2C5nh"
      },
      "execution_count": null,
      "outputs": []
    },
    {
      "cell_type": "code",
      "source": [
        "model.compile(optimizer='adam',\n",
        "              loss='categorical_crossentropy',\n",
        "              metrics=[\"accuracy\"])"
      ],
      "metadata": {
        "id": "3fk-ndaVC8RR"
      },
      "execution_count": null,
      "outputs": []
    },
    {
      "cell_type": "code",
      "source": [
        "history=model.fit(X_train, y_train, epochs =5,batch_size=5)"
      ],
      "metadata": {
        "colab": {
          "base_uri": "https://localhost:8080/"
        },
        "id": "gu1Qt5GiC-zd",
        "outputId": "710f3e18-22f9-4c59-a9dc-c4cf13d235f5"
      },
      "execution_count": null,
      "outputs": [
        {
          "output_type": "stream",
          "name": "stdout",
          "text": [
            "Epoch 1/5\n",
            "7666/7666 [==============================] - 58s 7ms/step - loss: 0.4645 - accuracy: 0.8716\n",
            "Epoch 2/5\n",
            "7666/7666 [==============================] - 55s 7ms/step - loss: 0.3281 - accuracy: 0.9031\n",
            "Epoch 3/5\n",
            "7666/7666 [==============================] - 52s 7ms/step - loss: 0.2897 - accuracy: 0.9159\n",
            "Epoch 4/5\n",
            "7666/7666 [==============================] - 53s 7ms/step - loss: 0.2596 - accuracy: 0.9246\n",
            "Epoch 5/5\n",
            "7666/7666 [==============================] - 53s 7ms/step - loss: 0.2482 - accuracy: 0.9301\n"
          ]
        }
      ]
    },
    {
      "cell_type": "code",
      "source": [
        "acc=model.evaluate(X_test,y_test)\n",
        "print(np.array(acc)[1].round(2))"
      ],
      "metadata": {
        "id": "U4AkNMfMD2bB",
        "colab": {
          "base_uri": "https://localhost:8080/"
        },
        "outputId": "a43cf943-f23f-4515-8c6b-c75266c644e3"
      },
      "execution_count": null,
      "outputs": [
        {
          "output_type": "stream",
          "name": "stdout",
          "text": [
            "375/375 [==============================] - 1s 3ms/step - loss: 0.5386 - accuracy: 0.8901\n",
            "0.89\n"
          ]
        }
      ]
    },
    {
      "cell_type": "code",
      "source": [
        "y_pred = model.predict(X_test)\n",
        "y_pred[:10]"
      ],
      "metadata": {
        "colab": {
          "base_uri": "https://localhost:8080/"
        },
        "id": "ZvBSQLB3dnP6",
        "outputId": "226b3d1c-181e-49c9-8626-f23a898f567d"
      },
      "execution_count": null,
      "outputs": [
        {
          "output_type": "stream",
          "name": "stdout",
          "text": [
            "375/375 [==============================] - 1s 3ms/step\n"
          ]
        },
        {
          "output_type": "execute_result",
          "data": {
            "text/plain": [
              "array([[9.99999940e-01, 0.00000000e+00, 2.84177593e-31, 1.55920968e-12,\n",
              "        0.00000000e+00, 0.00000000e+00, 3.81990808e-35, 9.43436163e-29,\n",
              "        8.59631377e-21, 0.00000000e+00, 0.00000000e+00, 2.21574422e-17,\n",
              "        2.01450579e-31, 7.15549362e-37, 0.00000000e+00],\n",
              "       [1.16240201e-07, 0.00000000e+00, 7.07150411e-15, 3.35320556e-11,\n",
              "        1.45493284e-18, 9.99999464e-01, 4.06874364e-07, 4.55304324e-23,\n",
              "        0.00000000e+00, 5.90456657e-22, 7.26363516e-20, 3.99398153e-10,\n",
              "        1.18956653e-34, 1.17930415e-10, 2.16326881e-24],\n",
              "       [8.65427613e-01, 3.94572534e-11, 4.92710805e-09, 6.32766387e-06,\n",
              "        4.65930572e-10, 7.23533844e-07, 5.91931748e-04, 7.47458728e-07,\n",
              "        2.24324049e-05, 2.62983146e-09, 2.64769522e-08, 2.62035523e-03,\n",
              "        1.31251812e-01, 7.79716065e-05, 1.45970445e-16],\n",
              "       [6.77049684e-05, 9.53878022e-15, 2.51008305e-06, 3.10326413e-07,\n",
              "        7.31436739e-06, 6.55847325e-05, 9.45715538e-14, 0.00000000e+00,\n",
              "        5.11226947e-15, 1.14379097e-02, 2.99910516e-05, 9.85825181e-01,\n",
              "        7.94098881e-17, 2.54245329e-04, 2.30937009e-03],\n",
              "       [9.97037351e-01, 8.08099880e-32, 5.03499644e-17, 5.74220914e-14,\n",
              "        8.61678159e-27, 2.94778616e-17, 8.71187887e-14, 1.18036159e-17,\n",
              "        5.29360271e-11, 6.55259182e-15, 6.30911538e-16, 2.96254689e-03,\n",
              "        6.74201939e-09, 2.66625104e-08, 1.14546693e-21],\n",
              "       [9.37522233e-01, 9.76398766e-08, 2.01487346e-05, 4.90810664e-04,\n",
              "        1.34537459e-07, 1.19429815e-03, 1.48925735e-02, 2.22201599e-03,\n",
              "        8.76044156e-04, 3.41616360e-05, 8.15195835e-06, 1.50441006e-02,\n",
              "        2.45315190e-02, 3.16375284e-03, 6.54029997e-10],\n",
              "       [1.88584131e-12, 0.00000000e+00, 1.07302320e-23, 1.47491417e-29,\n",
              "        1.02259870e-21, 7.69504615e-15, 2.06751835e-37, 0.00000000e+00,\n",
              "        0.00000000e+00, 2.31983558e-28, 1.23940607e-18, 9.99999940e-01,\n",
              "        0.00000000e+00, 2.22320469e-12, 2.67216898e-16],\n",
              "       [9.99999940e-01, 0.00000000e+00, 0.00000000e+00, 0.00000000e+00,\n",
              "        0.00000000e+00, 0.00000000e+00, 7.19804728e-12, 1.10162147e-29,\n",
              "        1.21652359e-26, 0.00000000e+00, 0.00000000e+00, 3.90740613e-21,\n",
              "        2.78280687e-23, 8.06176864e-27, 0.00000000e+00],\n",
              "       [1.04284482e-02, 2.67515703e-17, 4.20533024e-06, 4.27147114e-07,\n",
              "        1.99919100e-06, 2.86375925e-05, 2.85906382e-10, 1.25160771e-18,\n",
              "        2.06494354e-13, 1.20023998e-07, 2.35759144e-04, 9.86809134e-01,\n",
              "        5.60117279e-17, 2.40564230e-03, 8.56217157e-05],\n",
              "       [9.99991477e-01, 5.89671772e-34, 2.40813521e-21, 1.52958944e-13,\n",
              "        2.14492222e-36, 1.07881975e-19, 1.17529069e-07, 1.00601146e-12,\n",
              "        5.39773097e-08, 1.47229384e-21, 6.96730272e-26, 3.13604914e-07,\n",
              "        7.99666213e-06, 4.52983796e-11, 0.00000000e+00]], dtype=float32)"
            ]
          },
          "metadata": {},
          "execution_count": 15
        }
      ]
    },
    {
      "cell_type": "code",
      "source": [
        "#метки класса\n",
        "y_classes = y_pred.argmax(axis=-1)\n",
        "y_classes[:10]"
      ],
      "metadata": {
        "colab": {
          "base_uri": "https://localhost:8080/"
        },
        "id": "xSp3zLupfaPV",
        "outputId": "b0d042bc-3f0c-4bca-a980-d35adcea3df3"
      },
      "execution_count": null,
      "outputs": [
        {
          "output_type": "execute_result",
          "data": {
            "text/plain": [
              "array([ 0,  5,  0, 11,  0,  0, 11,  0, 11,  0])"
            ]
          },
          "metadata": {},
          "execution_count": 16
        }
      ]
    },
    {
      "cell_type": "code",
      "source": [
        "#декодинг меток в название категорий\n",
        "encoder.inverse_transform(y_classes[:10])"
      ],
      "metadata": {
        "colab": {
          "base_uri": "https://localhost:8080/"
        },
        "id": "qRyKv5ZBfoGA",
        "outputId": "8f4e9307-cae2-4c1d-f14a-68aa820d04d3"
      },
      "execution_count": null,
      "outputs": [
        {
          "output_type": "execute_result",
          "data": {
            "text/plain": [
              "array(['Благоустройство', 'Нарушение правил пользования общим имуществом',\n",
              "       'Благоустройство', 'Содержание МКД', 'Благоустройство',\n",
              "       'Благоустройство', 'Содержание МКД', 'Благоустройство',\n",
              "       'Содержание МКД', 'Благоустройство'], dtype=object)"
            ]
          },
          "metadata": {},
          "execution_count": 17
        }
      ]
    },
    {
      "cell_type": "markdown",
      "source": [
        "## Лабораторная работа №2 - Keras"
      ],
      "metadata": {
        "id": "Z9mLZt6r4k0L"
      }
    },
    {
      "cell_type": "markdown",
      "source": [
        "* тезисно - решаете задачу регрессии ИЛИ классификации\n",
        "* Набор данных ищете сами, можете смело взять с прошлой лабы"
      ],
      "metadata": {
        "id": "S9q-I31T4tsG"
      }
    },
    {
      "cell_type": "markdown",
      "source": [
        "Для классификации:\n",
        "* использовать минимум две метрики для оценки качества классификатора\n",
        "* построить минимум три варианта нейросетей (моделей)\n",
        "* для тестовой выборки построить матрицу ошибок(матрица путаницы) - сделать выводы о качестве модели\n",
        "* реализовать функцию, которая по входным параметрам возвращает предсказанное с помощью нейросети значение"
      ],
      "metadata": {
        "id": "-l0Bk1ms4_qN"
      }
    },
    {
      "cell_type": "markdown",
      "source": [
        "Для регрессии:\n",
        "* использовать минимум две метрики для оценки качества модели\n",
        "* построить минимум три варианта нейросетей (моделей)\n",
        "* для тестовой выборки построить график сравнения предсказанных значений и с реальными (true vs pred)\n",
        "* реализовать функцию, которая по входным параметрам возвращает предсказанное с помощью нейросети значение"
      ],
      "metadata": {
        "id": "SkD340Pi5rCX"
      }
    }
  ]
}